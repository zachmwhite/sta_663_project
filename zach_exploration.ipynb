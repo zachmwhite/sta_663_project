{
 "cells": [
  {
   "cell_type": "code",
   "execution_count": 6,
   "metadata": {},
   "outputs": [],
   "source": [
    "import numpy as np\n",
    "import time\n",
    "from scipy.stats import lognorm\n",
    "import matplotlib.pyplot as plt\n",
    "import scipy.linalg as la"
   ]
  },
  {
   "cell_type": "code",
   "execution_count": 3,
   "metadata": {},
   "outputs": [
    {
     "name": "stderr",
     "output_type": "stream",
     "text": [
      "UsageError: Cell magic `%%R` not found.\n"
     ]
    }
   ],
   "source": [
    "%%R\n",
    "library(tidyverse)\n"
   ]
  },
  {
   "cell_type": "code",
   "execution_count": 31,
   "metadata": {},
   "outputs": [],
   "source": [
    "# Load Data\n",
    "## Simulating Data\n",
    "n = 1000\n",
    "r = .95\n",
    "inter = np.ones(n)\n",
    "x1 = np.random.normal(0,5,n)\n",
    "x2 = np.random.normal(0,2,n)\n",
    "x34 = np.random.multivariate_normal([0, 0], np.array([[3, r], [r, 2]]), n)\n",
    "X = np.c_[x1,x2,x34]\n",
    "X = (X - X.mean(axis = 0)) / X.std(axis = 0)\n",
    "X = np.c_[inter,X]\n",
    "\n",
    "beta = np.array([1,-2,3,-1,2]).reshape(5,1)\n",
    "pr = 1 / (1 + np.exp(X.dot(beta)))\n",
    "\n",
    "\n",
    "# Possibly need to standardize this\n",
    "y = np.random.binomial(n=1, p=pr)"
   ]
  },
  {
   "cell_type": "code",
   "execution_count": 32,
   "metadata": {},
   "outputs": [
    {
     "data": {
      "text/plain": [
       "array([[0.99541296, 1.        ],\n",
       "       [0.55931515, 0.        ],\n",
       "       [0.99031203, 1.        ],\n",
       "       [0.99095291, 1.        ],\n",
       "       [0.64595933, 1.        ],\n",
       "       [0.11408075, 0.        ],\n",
       "       [0.06377019, 0.        ],\n",
       "       [0.94527421, 1.        ],\n",
       "       [0.82094257, 1.        ],\n",
       "       [0.81209617, 1.        ]])"
      ]
     },
     "execution_count": 32,
     "metadata": {},
     "output_type": "execute_result"
    }
   ],
   "source": [
    "np.c_[pr,y][:10,:]\n"
   ]
  },
  {
   "cell_type": "code",
   "execution_count": 27,
   "metadata": {},
   "outputs": [
    {
     "name": "stderr",
     "output_type": "stream",
     "text": [
      "/opt/conda/lib/python3.6/site-packages/ipykernel_launcher.py:3: RuntimeWarning: invalid value encountered in true_divide\n",
      "  This is separate from the ipykernel package so we can avoid doing imports until\n"
     ]
    }
   ],
   "source": [
    "n,d = X.shape"
   ]
  },
  {
   "cell_type": "code",
   "execution_count": 57,
   "metadata": {},
   "outputs": [],
   "source": [
    "def log_normal_pdf(x,w,alpha):\n",
    "    return(np.exp(-(np.log(x) - w)**2 / (2 * alpha**2)) / (x * alpha * np.sqrt(2 * np.pi)))"
   ]
  },
  {
   "cell_type": "code",
   "execution_count": null,
   "metadata": {},
   "outputs": [],
   "source": [
    "def logistic_rmhmc(y,X,niter,burnin,leap_frog_steps= 6,num_newton_steps = 6):\n",
    "    n,d = X.shape\n",
    "    step_size = 3/leap_frog_steps\n",
    "    w = np.ones(d)*(1e-3)\n",
    "    wSaved = np.zeros(niter - burnin,d)\n",
    "    # Set up a dictionary for the gradients\n",
    "    g_deriv = {}\n",
    "    invGdG = {}\n",
    "    trInvGdG = np.zeros(d)\n",
    "    \n",
    "    log_prior = sum(np.zeros(d),w,alpha)\n",
    "    f = X.dot(log_prior)\n",
    "    loglike = f.T.dot(y) - np.sum(np.log(1 + np.exp(f)))\n",
    "    current = loglike + log_prior\n",
    "    prop = 0\n",
    "    \n",
    "    for i in range(niter):\n",
    "        wNew = w\n",
    "        prop += 1\n",
    "        \n",
    "        # New G\n",
    "        f = X.dot(wNew)\n",
    "        p = 1 / (1+ np.exp(-f))\n",
    "        v = p.dot(1 - p)\n",
    "        G = X.T.dot(v.dot(X)) + np.identity(d)/alpha\n",
    "        \n",
    "        invG = la.inv(G)\n",
    "        \n",
    "        oG = G\n",
    "        o_chol_G = la.cholesky(G)\n",
    "        o_inv_G = invG\n",
    "        \n",
    "        for j in range(d):\n",
    "            Z = ((1 - 2*p).dot(X[:,d])) # Review\n",
    "            g_deriv[j] = X.T.dot(v.dot(np.diag(Z))).dot(X)\n",
    "            invGdG[j] = InvG.dot(g_deriv[j])\n",
    "            trInvGdG[j] = np.trace(invGdG[j])\n",
    "            \n",
    "        p_momentum = np.random.randn(p).dot(oG)\n",
    "        o_momentum = p_momentum\n",
    "        \n",
    "        if np.random.randn(1) > .5:\n",
    "            TimeStep = 1\n",
    "        else:\n",
    "            TimeStep = -1\n",
    "            \n",
    "        RandomSteps = np.ceil(np.random.rand(1)*leap_frog_steps)\n",
    "        \n",
    "        SavedSteps = wNew\n",
    "        \n",
    "        # Leapfrog steps\n",
    "        for step in range(RandomSteps):\n",
    "            \n",
    "            # Updating the Momentum\n",
    "            dLdTheta = (X.T.dot(y - (1/(1 + np.exp(-f))))) - np.identity(d)*(1 / alpha).dot(wNew)\n",
    "            trace1 = trInvGdG/2\n",
    "            \n",
    "            # Multiple fixed point iteration\n",
    "            pm = p_momentum\n",
    "            for fixed_i in range(num_newton_steps):\n",
    "                Momentum"
   ]
  },
  {
   "cell_type": "code",
   "execution_count": 51,
   "metadata": {},
   "outputs": [
    {
     "data": {
      "text/plain": [
       "array([ 0.51301974, -1.93166497,  0.53002304])"
      ]
     },
     "execution_count": 51,
     "metadata": {},
     "output_type": "execute_result"
    }
   ],
   "source": [
    "np.random.randn(3, 4)"
   ]
  },
  {
   "cell_type": "code",
   "execution_count": 50,
   "metadata": {},
   "outputs": [
    {
     "data": {
      "text/plain": [
       "{0: array([[1, 2, 3],\n",
       "        [4, 5, 6]])}"
      ]
     },
     "execution_count": 50,
     "metadata": {},
     "output_type": "execute_result"
    }
   ],
   "source": [
    "test_d = {}\n",
    "test_d[0] = np.array([1,2,3,4,5,6]).reshape(2,3)\n",
    "test_d"
   ]
  },
  {
   "cell_type": "code",
   "execution_count": 45,
   "metadata": {},
   "outputs": [
    {
     "data": {
      "text/plain": [
       "array([[1, 0, 0, 0, 0],\n",
       "       [0, 2, 0, 0, 0],\n",
       "       [0, 0, 3, 0, 0],\n",
       "       [0, 0, 0, 4, 0],\n",
       "       [0, 0, 0, 0, 5]])"
      ]
     },
     "execution_count": 45,
     "metadata": {},
     "output_type": "execute_result"
    }
   ],
   "source": [
    "np.diag([1,2,3,4,5])"
   ]
  },
  {
   "cell_type": "code",
   "execution_count": 36,
   "metadata": {},
   "outputs": [
    {
     "data": {
      "text/plain": [
       "array([[1.00000000e+00, 3.20499729e-17],\n",
       "       [1.70818855e-16, 1.00000000e+00]])"
      ]
     },
     "execution_count": 36,
     "metadata": {},
     "output_type": "execute_result"
    }
   ],
   "source": [
    "test_x = np.random.multivariate_normal([0, 0], np.array([[3, r], [r, 2]]),2)\n",
    "test_x\n",
    "la.inv(test_x).dot(test_x)"
   ]
  },
  {
   "cell_type": "code",
   "execution_count": 43,
   "metadata": {},
   "outputs": [
    {
     "name": "stdout",
     "output_type": "stream",
     "text": [
      "[[1. 3. 5.]\n",
      " [0. 2. 4.]\n",
      " [0. 0. 1.]]\n",
      "[[ 4.25 -2.75  1.  ]\n",
      " [-2.75  4.25 -2.  ]\n",
      " [ 1.   -2.    1.  ]]\n",
      "[[ 1.00000000e+00  3.77475828e-15  1.33226763e-15]\n",
      " [-4.44089210e-16  1.00000000e+00  1.33226763e-14]\n",
      " [ 9.99200722e-16 -5.55111512e-16  1.00000000e+00]]\n"
     ]
    }
   ],
   "source": [
    "A = np.array([\n",
    "    [1,3,5],\n",
    "    [3,13,23],\n",
    "    [5,23,42]\n",
    "])\n",
    "print(la.cholesky(A))\n",
    "print(la.inv(A))\n",
    "print(la.inv(A).dot(A))"
   ]
  },
  {
   "cell_type": "code",
   "execution_count": 28,
   "metadata": {},
   "outputs": [
    {
     "data": {
      "text/plain": [
       "array([nan,  1.,  1.,  1.,  1.])"
      ]
     },
     "execution_count": 28,
     "metadata": {},
     "output_type": "execute_result"
    }
   ],
   "source": [
    "X.std(axis = 0)"
   ]
  },
  {
   "cell_type": "code",
   "execution_count": 107,
   "metadata": {},
   "outputs": [
    {
     "name": "stderr",
     "output_type": "stream",
     "text": [
      "/opt/conda/lib/python3.6/site-packages/ipykernel_launcher.py:2: RuntimeWarning: divide by zero encountered in log\n",
      "  \n",
      "/opt/conda/lib/python3.6/site-packages/ipykernel_launcher.py:2: RuntimeWarning: invalid value encountered in true_divide\n",
      "  \n"
     ]
    },
    {
     "ename": "ValueError",
     "evalue": "operands could not be broadcast together with shapes (5,1000) (5,) ",
     "output_type": "error",
     "traceback": [
      "\u001b[0;31m\u001b[0m",
      "\u001b[0;31mValueError\u001b[0mTraceback (most recent call last)",
      "\u001b[0;32m<ipython-input-107-b2718a70d58d>\u001b[0m in \u001b[0;36m<module>\u001b[0;34m()\u001b[0m\n\u001b[1;32m     61\u001b[0m \u001b[0;34m\u001b[0m\u001b[0m\n\u001b[1;32m     62\u001b[0m             \u001b[0;31m# Updating the Momentum\u001b[0m\u001b[0;34m\u001b[0m\u001b[0;34m\u001b[0m\u001b[0m\n\u001b[0;32m---> 63\u001b[0;31m         \u001b[0mdLdTheta\u001b[0m \u001b[0;34m=\u001b[0m \u001b[0;34m(\u001b[0m\u001b[0mX\u001b[0m\u001b[0;34m.\u001b[0m\u001b[0mT\u001b[0m\u001b[0;34m.\u001b[0m\u001b[0mdot\u001b[0m\u001b[0;34m(\u001b[0m\u001b[0my\u001b[0m \u001b[0;34m-\u001b[0m \u001b[0;34m(\u001b[0m\u001b[0;36m1\u001b[0m\u001b[0;34m/\u001b[0m\u001b[0;34m(\u001b[0m\u001b[0;36m1\u001b[0m \u001b[0;34m+\u001b[0m \u001b[0mnp\u001b[0m\u001b[0;34m.\u001b[0m\u001b[0mexp\u001b[0m\u001b[0;34m(\u001b[0m\u001b[0;34m-\u001b[0m\u001b[0mf\u001b[0m\u001b[0;34m)\u001b[0m\u001b[0;34m)\u001b[0m\u001b[0;34m)\u001b[0m\u001b[0;34m)\u001b[0m\u001b[0;34m)\u001b[0m \u001b[0;34m-\u001b[0m \u001b[0;34m(\u001b[0m\u001b[0mnp\u001b[0m\u001b[0;34m.\u001b[0m\u001b[0meye\u001b[0m\u001b[0;34m(\u001b[0m\u001b[0md\u001b[0m\u001b[0;34m)\u001b[0m\u001b[0;34m*\u001b[0m\u001b[0;34m(\u001b[0m\u001b[0;36m1\u001b[0m \u001b[0;34m/\u001b[0m \u001b[0malpha\u001b[0m\u001b[0;34m)\u001b[0m\u001b[0;34m)\u001b[0m\u001b[0;34m.\u001b[0m\u001b[0mdot\u001b[0m\u001b[0;34m(\u001b[0m\u001b[0mwNew\u001b[0m\u001b[0;34m)\u001b[0m\u001b[0;34m\u001b[0m\u001b[0m\n\u001b[0m\u001b[1;32m     64\u001b[0m         \u001b[0mtrace1\u001b[0m \u001b[0;34m=\u001b[0m \u001b[0mtrInvGdG\u001b[0m\u001b[0;34m/\u001b[0m\u001b[0;36m2\u001b[0m\u001b[0;34m\u001b[0m\u001b[0m\n\u001b[1;32m     65\u001b[0m \u001b[0;34m\u001b[0m\u001b[0m\n",
      "\u001b[0;31mValueError\u001b[0m: operands could not be broadcast together with shapes (5,1000) (5,) "
     ]
    }
   ],
   "source": [
    "y = y\n",
    "X = X\n",
    "niter = 10\n",
    "burnin = 2\n",
    "leap_frog_steps = 6\n",
    "num_newton_steps = 6\n",
    "alpha = 100\n",
    "\n",
    "\n",
    "n,d = X.shape\n",
    "step_size = 3/leap_frog_steps\n",
    "w = np.ones(d)*(1e-3)\n",
    "wSaved = np.zeros((niter - burnin,d))\n",
    "# Set up a dictionary for the gradients\n",
    "g_deriv = {}\n",
    "invGdG = {}\n",
    "trInvGdG = np.zeros(d)\n",
    "    \n",
    "log_prior = sum(log_normal_pdf(np.zeros(d),w,alpha))\n",
    "f = X.dot(log_prior)\n",
    "loglike = f.T.dot(y) - np.sum(np.log(1 + np.exp(f)))\n",
    "current = loglike + log_prior\n",
    "prop = 0\n",
    "    \n",
    "for i in range(niter):\n",
    "    wNew = w\n",
    "    prop += 1\n",
    "        \n",
    "        # New G\n",
    "    f = X.dot(wNew)\n",
    "    p = 1 / (1+ np.exp(-f))\n",
    "    v = p.dot(1 - p)\n",
    "    G = X.T.dot(v*(X)) + np.identity(d)/alpha\n",
    "        \n",
    "    invG = la.inv(G)\n",
    "        \n",
    "    oG = G\n",
    "    o_chol_G = la.cholesky(G)\n",
    "    o_inv_G = invG\n",
    "        \n",
    "    for j in range(d):\n",
    "        Z = ((1 - 2*p)*(X[:,j])) # Review\n",
    "        g_deriv[j] = X.T.dot(v*(np.diag(Z))).dot(X) # My v is a scalar, but should it be?\n",
    "        invGdG[j] = invG.dot(g_deriv[j])\n",
    "        trInvGdG[j] = np.trace(invGdG[j])\n",
    "            \n",
    "    p_momentum = np.random.randn(d).dot(oG)\n",
    "    o_momentum = p_momentum\n",
    "        \n",
    "    if np.random.randn(1) > .5:\n",
    "        TimeStep = 1\n",
    "    else:\n",
    "        TimeStep = -1\n",
    "            \n",
    "    RandomSteps = np.ceil(np.random.rand(1).item()*leap_frog_steps)\n",
    "        \n",
    "    SavedSteps = wNew\n",
    "        \n",
    "        # Leapfrog steps\n",
    "    for step in np.arange(RandomSteps):\n",
    "            \n",
    "            # Updating the Momentum\n",
    "        dLdTheta = (X.T.dot(y - (1/(1 + np.exp(-f))))) - (np.identity(d)*(1 / alpha)).dot(wNew)\n",
    "        # The above line doesn't broad cast 5,1000 and (5,).  Is this on my end or what?\n",
    "        trace1 = trInvGdG/2\n",
    "            \n",
    "            # Multiple fixed point iteration\n",
    "        pm = p_momentum\n",
    "        last_term = np.zeros(d)\n",
    "        MomentumHist = np.zeros((num_newton_steps,d))\n",
    "        for fixed_i in range(num_newton_steps):\n",
    "            #Momentum\n",
    "            MomentumHist[fixed_i,:] = pm\n",
    "            \n",
    "            invGMomentum = invG.dot(pm)\n",
    "            for dim in range(d):\n",
    "                last_term[dim] = .5*(pm.dot(invGdG[dim].dot(invGMomentum)))\n",
    "            \n",
    "            pm = p_momentum + TimeStep * (step_size / 2) * (dLdTheta - trace1 + last_term.T)\n",
    "        p_momentum = pm\n",
    "        # Update w parameters\n",
    "        oInvGMomentum = la.inv(G).dot(p_momentum) # They use a matlab code \\\n",
    "        # This is either inv(G).dot(p_momentum)\n",
    "        \n",
    "        \n",
    "        pw = wNew\n",
    "        wHist = np.zeros((num_newton_steps,d))\n",
    "        for fixed_i in range(num_newton_steps):\n",
    "            wHist[fixed_i,:] = pw\n",
    "            \n",
    "            f = X.dot(pw)\n",
    "            p = 1 / (1 + np.exp(-f))\n",
    "            \n",
    "            v = p *(1 - p)\n",
    "            G = (X.T * np.tile(v.T,(d,1))).dot(X) + (np.identity(d) / alpha)\n",
    "            invGMomentum = la.inv(G).dot(p_momenum)\n",
    "            \n",
    "            pw = wNew + (Timestep * (step_size/2))*oInvGMomentum + (TimeStep*(step_size/2))*invGMomentum\n",
    "            \n",
    "        wNew = pw\n",
    "        \n",
    "        # Calculate G based on new parameters\n",
    "        f = X.dot(wNew)\n",
    "        p = 1 / (1+ np.exp(-f))\n",
    "        "
   ]
  },
  {
   "cell_type": "code",
   "execution_count": 102,
   "metadata": {},
   "outputs": [
    {
     "name": "stdout",
     "output_type": "stream",
     "text": [
      "[0.2055339]\n",
      "6\n"
     ]
    },
    {
     "data": {
      "text/plain": [
       "array([0., 1.])"
      ]
     },
     "execution_count": 102,
     "metadata": {},
     "output_type": "execute_result"
    }
   ],
   "source": [
    "# Actual Analysis\n",
    "type(v)\n",
    "list(range(d))\n",
    "\n",
    "test1 = np.array([1,2,3,4,5])\n",
    "test2 = np.array([1,2,3,4,5])\n",
    "test1 *test2\n",
    "\n",
    "oG.shape\n",
    "np.random.randn(d)\n",
    "test = np.random.rand(1)\n",
    "print(test)\n",
    "print(leap_frog_steps)\n",
    "\n",
    "np.ceil(test*leap_frog_steps).item()\n",
    "np.arange(np.ceil(np.random.rand(1).item()*leap_frog_steps))\n"
   ]
  },
  {
   "cell_type": "code",
   "execution_count": 123,
   "metadata": {},
   "outputs": [
    {
     "data": {
      "text/plain": [
       "array([[1., 0., 0., 0., 0.],\n",
       "       [0., 1., 0., 0., 0.],\n",
       "       [0., 0., 1., 0., 0.],\n",
       "       [0., 0., 0., 1., 0.],\n",
       "       [0., 0., 0., 0., 1.]])"
      ]
     },
     "execution_count": 123,
     "metadata": {},
     "output_type": "execute_result"
    }
   ],
   "source": [
    "#(X.T.dot(y - (1/(1 + np.exp(-f))))) - np.eye(d)*(1 / alpha).dot(wNew)\n",
    "test_x = np.array([1,2,3,4,5])\n",
    "np.tile(test_x,(5,1))\n",
    "np.identity(5)"
   ]
  }
 ],
 "metadata": {
  "kernelspec": {
   "display_name": "Python 3",
   "language": "python",
   "name": "python3"
  },
  "language_info": {
   "codemirror_mode": {
    "name": "ipython",
    "version": 3
   },
   "file_extension": ".py",
   "mimetype": "text/x-python",
   "name": "python",
   "nbconvert_exporter": "python",
   "pygments_lexer": "ipython3",
   "version": "3.6.5"
  }
 },
 "nbformat": 4,
 "nbformat_minor": 2
}
